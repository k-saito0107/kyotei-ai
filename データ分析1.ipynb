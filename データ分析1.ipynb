{
 "cells": [
  {
   "cell_type": "code",
   "execution_count": 8,
   "id": "02bd1f4c-923e-4c70-a096-3855f44ae6f7",
   "metadata": {},
   "outputs": [],
   "source": [
    "import pandas as pd\n",
    "import numpy as np\n",
    "import os\n",
    "from matplotlib import pyplot as plt\n",
    "from matplotlib import rcParams\n",
    "plt.rcParams[\"font.family\"] = \"MS Gothic\""
   ]
  },
  {
   "cell_type": "code",
   "execution_count": 2,
   "id": "ca5fa028-a85c-4f08-8445-c04396ab01fd",
   "metadata": {},
   "outputs": [],
   "source": [
    "data = pd.read_csv('./data/master_data.csv', encoding='shift-jis')"
   ]
  },
  {
   "cell_type": "code",
   "execution_count": 15,
   "id": "424cabfe-d5bf-4cee-9789-514ccd1f8244",
   "metadata": {},
   "outputs": [
    {
     "data": {
      "text/html": [
       "<div>\n",
       "<style scoped>\n",
       "    .dataframe tbody tr th:only-of-type {\n",
       "        vertical-align: middle;\n",
       "    }\n",
       "\n",
       "    .dataframe tbody tr th {\n",
       "        vertical-align: top;\n",
       "    }\n",
       "\n",
       "    .dataframe thead th {\n",
       "        text-align: right;\n",
       "    }\n",
       "</style>\n",
       "<table border=\"1\" class=\"dataframe\">\n",
       "  <thead>\n",
       "    <tr style=\"text-align: right;\">\n",
       "      <th></th>\n",
       "      <th>レース日</th>\n",
       "      <th>レース場</th>\n",
       "      <th>レース回</th>\n",
       "      <th>天候</th>\n",
       "      <th>風向</th>\n",
       "      <th>風速(m)</th>\n",
       "      <th>波の高さ(cm)</th>\n",
       "      <th>1枠_選手名_x</th>\n",
       "      <th>1枠_モーター番号</th>\n",
       "      <th>1枠_順位</th>\n",
       "      <th>...</th>\n",
       "      <th>5枠_全国勝率</th>\n",
       "      <th>5枠_全国2連対率</th>\n",
       "      <th>5枠_当地勝率</th>\n",
       "      <th>5枠_当地2連対率</th>\n",
       "      <th>6枠_年齢</th>\n",
       "      <th>6枠_体重</th>\n",
       "      <th>6枠_全国勝率</th>\n",
       "      <th>6枠_全国2連対率</th>\n",
       "      <th>6枠_当地勝率</th>\n",
       "      <th>6枠_当地2連対率</th>\n",
       "    </tr>\n",
       "  </thead>\n",
       "  <tbody>\n",
       "    <tr>\n",
       "      <th>0</th>\n",
       "      <td>20150701</td>\n",
       "      <td>三国</td>\n",
       "      <td>1</td>\n",
       "      <td>雨</td>\n",
       "      <td>南</td>\n",
       "      <td>3.0</td>\n",
       "      <td>2.0</td>\n",
       "      <td>室田泰史</td>\n",
       "      <td>48.0</td>\n",
       "      <td>1</td>\n",
       "      <td>...</td>\n",
       "      <td>3.61</td>\n",
       "      <td>5.56</td>\n",
       "      <td>0.00</td>\n",
       "      <td>0.00</td>\n",
       "      <td>23</td>\n",
       "      <td>53</td>\n",
       "      <td>2.11</td>\n",
       "      <td>7.89</td>\n",
       "      <td>1.85</td>\n",
       "      <td>0.00</td>\n",
       "    </tr>\n",
       "    <tr>\n",
       "      <th>1</th>\n",
       "      <td>20150701</td>\n",
       "      <td>三国</td>\n",
       "      <td>10</td>\n",
       "      <td>曇り</td>\n",
       "      <td>西</td>\n",
       "      <td>2.0</td>\n",
       "      <td>1.0</td>\n",
       "      <td>奥田誠</td>\n",
       "      <td>44.0</td>\n",
       "      <td>2</td>\n",
       "      <td>...</td>\n",
       "      <td>4.85</td>\n",
       "      <td>26.15</td>\n",
       "      <td>4.25</td>\n",
       "      <td>12.50</td>\n",
       "      <td>48</td>\n",
       "      <td>56</td>\n",
       "      <td>4.74</td>\n",
       "      <td>25.86</td>\n",
       "      <td>4.11</td>\n",
       "      <td>22.22</td>\n",
       "    </tr>\n",
       "    <tr>\n",
       "      <th>2</th>\n",
       "      <td>20150701</td>\n",
       "      <td>三国</td>\n",
       "      <td>11</td>\n",
       "      <td>曇り</td>\n",
       "      <td>西</td>\n",
       "      <td>2.0</td>\n",
       "      <td>1.0</td>\n",
       "      <td>上村純一</td>\n",
       "      <td>38.0</td>\n",
       "      <td>4</td>\n",
       "      <td>...</td>\n",
       "      <td>4.91</td>\n",
       "      <td>26.83</td>\n",
       "      <td>5.43</td>\n",
       "      <td>38.10</td>\n",
       "      <td>36</td>\n",
       "      <td>50</td>\n",
       "      <td>6.66</td>\n",
       "      <td>53.06</td>\n",
       "      <td>6.47</td>\n",
       "      <td>55.56</td>\n",
       "    </tr>\n",
       "    <tr>\n",
       "      <th>3</th>\n",
       "      <td>20150701</td>\n",
       "      <td>三国</td>\n",
       "      <td>12</td>\n",
       "      <td>曇り</td>\n",
       "      <td>西</td>\n",
       "      <td>2.0</td>\n",
       "      <td>1.0</td>\n",
       "      <td>倉谷和信</td>\n",
       "      <td>28.0</td>\n",
       "      <td>1</td>\n",
       "      <td>...</td>\n",
       "      <td>6.30</td>\n",
       "      <td>40.57</td>\n",
       "      <td>6.00</td>\n",
       "      <td>44.44</td>\n",
       "      <td>30</td>\n",
       "      <td>50</td>\n",
       "      <td>7.34</td>\n",
       "      <td>61.60</td>\n",
       "      <td>8.06</td>\n",
       "      <td>76.47</td>\n",
       "    </tr>\n",
       "    <tr>\n",
       "      <th>4</th>\n",
       "      <td>20150701</td>\n",
       "      <td>三国</td>\n",
       "      <td>2</td>\n",
       "      <td>雨</td>\n",
       "      <td>南西</td>\n",
       "      <td>2.0</td>\n",
       "      <td>1.0</td>\n",
       "      <td>片岡秀樹</td>\n",
       "      <td>53.0</td>\n",
       "      <td>1</td>\n",
       "      <td>...</td>\n",
       "      <td>2.23</td>\n",
       "      <td>3.23</td>\n",
       "      <td>1.91</td>\n",
       "      <td>0.00</td>\n",
       "      <td>39</td>\n",
       "      <td>47</td>\n",
       "      <td>6.10</td>\n",
       "      <td>47.96</td>\n",
       "      <td>6.13</td>\n",
       "      <td>45.65</td>\n",
       "    </tr>\n",
       "  </tbody>\n",
       "</table>\n",
       "<p>5 rows × 61 columns</p>\n",
       "</div>"
      ],
      "text/plain": [
       "       レース日 レース場  レース回  天候  風向  風速(m)  波の高さ(cm) 1枠_選手名_x  1枠_モーター番号  1枠_順位  \\\n",
       "0  20150701   三国     1   雨   南    3.0       2.0     室田泰史       48.0      1   \n",
       "1  20150701   三国    10  曇り   西    2.0       1.0      奥田誠       44.0      2   \n",
       "2  20150701   三国    11  曇り   西    2.0       1.0     上村純一       38.0      4   \n",
       "3  20150701   三国    12  曇り   西    2.0       1.0     倉谷和信       28.0      1   \n",
       "4  20150701   三国     2   雨  南西    2.0       1.0     片岡秀樹       53.0      1   \n",
       "\n",
       "   ... 5枠_全国勝率  5枠_全国2連対率  5枠_当地勝率 5枠_当地2連対率  6枠_年齢  6枠_体重 6枠_全国勝率  6枠_全国2連対率  \\\n",
       "0  ...    3.61       5.56     0.00      0.00     23     53    2.11       7.89   \n",
       "1  ...    4.85      26.15     4.25     12.50     48     56    4.74      25.86   \n",
       "2  ...    4.91      26.83     5.43     38.10     36     50    6.66      53.06   \n",
       "3  ...    6.30      40.57     6.00     44.44     30     50    7.34      61.60   \n",
       "4  ...    2.23       3.23     1.91      0.00     39     47    6.10      47.96   \n",
       "\n",
       "   6枠_当地勝率 6枠_当地2連対率  \n",
       "0     1.85      0.00  \n",
       "1     4.11     22.22  \n",
       "2     6.47     55.56  \n",
       "3     8.06     76.47  \n",
       "4     6.13     45.65  \n",
       "\n",
       "[5 rows x 61 columns]"
      ]
     },
     "execution_count": 15,
     "metadata": {},
     "output_type": "execute_result"
    }
   ],
   "source": [
    "data.head(5)"
   ]
  },
  {
   "cell_type": "code",
   "execution_count": 4,
   "id": "679cd8f8-6b61-4263-8996-145e08144499",
   "metadata": {},
   "outputs": [],
   "source": [
    "data.drop(columns=['タイトル', '日次', '1枠_選手名_y', '2枠_選手名_y', '3枠_選手名_y', '4枠_選手名_y', '5枠_選手名_y','6枠_選手名_y'], inplace=True)\n"
   ]
  },
  {
   "cell_type": "markdown",
   "id": "f37bcc12-611d-4b3e-b963-fb1c1aae6dd2",
   "metadata": {},
   "source": [
    "## 各コースごとの順位の関係"
   ]
  },
  {
   "cell_type": "code",
   "execution_count": 5,
   "id": "99811620-b82b-4e97-946c-bc9a53b4b22f",
   "metadata": {},
   "outputs": [
    {
     "data": {
      "text/html": [
       "<div>\n",
       "<style scoped>\n",
       "    .dataframe tbody tr th:only-of-type {\n",
       "        vertical-align: middle;\n",
       "    }\n",
       "\n",
       "    .dataframe tbody tr th {\n",
       "        vertical-align: top;\n",
       "    }\n",
       "\n",
       "    .dataframe thead th {\n",
       "        text-align: right;\n",
       "    }\n",
       "</style>\n",
       "<table border=\"1\" class=\"dataframe\">\n",
       "  <thead>\n",
       "    <tr style=\"text-align: right;\">\n",
       "      <th></th>\n",
       "      <th>1枠_順位</th>\n",
       "      <th>2枠_順位</th>\n",
       "      <th>3枠_順位</th>\n",
       "      <th>4枠_順位</th>\n",
       "      <th>5枠_順位</th>\n",
       "      <th>6枠_順位</th>\n",
       "    </tr>\n",
       "  </thead>\n",
       "  <tbody>\n",
       "    <tr>\n",
       "      <th>0</th>\n",
       "      <td>1</td>\n",
       "      <td>2</td>\n",
       "      <td>6</td>\n",
       "      <td>5</td>\n",
       "      <td>3</td>\n",
       "      <td>4</td>\n",
       "    </tr>\n",
       "    <tr>\n",
       "      <th>1</th>\n",
       "      <td>2</td>\n",
       "      <td>1</td>\n",
       "      <td>4</td>\n",
       "      <td>3</td>\n",
       "      <td>5</td>\n",
       "      <td>6</td>\n",
       "    </tr>\n",
       "    <tr>\n",
       "      <th>2</th>\n",
       "      <td>4</td>\n",
       "      <td>2</td>\n",
       "      <td>6</td>\n",
       "      <td>5</td>\n",
       "      <td>3</td>\n",
       "      <td>1</td>\n",
       "    </tr>\n",
       "    <tr>\n",
       "      <th>3</th>\n",
       "      <td>1</td>\n",
       "      <td>3</td>\n",
       "      <td>4</td>\n",
       "      <td>2</td>\n",
       "      <td>6</td>\n",
       "      <td>5</td>\n",
       "    </tr>\n",
       "    <tr>\n",
       "      <th>4</th>\n",
       "      <td>1</td>\n",
       "      <td>6</td>\n",
       "      <td>2</td>\n",
       "      <td>3</td>\n",
       "      <td>5</td>\n",
       "      <td>4</td>\n",
       "    </tr>\n",
       "  </tbody>\n",
       "</table>\n",
       "</div>"
      ],
      "text/plain": [
       "   1枠_順位  2枠_順位  3枠_順位  4枠_順位  5枠_順位  6枠_順位\n",
       "0      1      2      6      5      3      4\n",
       "1      2      1      4      3      5      6\n",
       "2      4      2      6      5      3      1\n",
       "3      1      3      4      2      6      5\n",
       "4      1      6      2      3      5      4"
      ]
     },
     "execution_count": 5,
     "metadata": {},
     "output_type": "execute_result"
    }
   ],
   "source": [
    "rank_data = data[['1枠_順位', '2枠_順位', '3枠_順位', '4枠_順位', '5枠_順位','6枠_順位']]\n",
    "rank_data.head()"
   ]
  },
  {
   "cell_type": "code",
   "execution_count": 16,
   "id": "cdaf56a8-f3bf-471d-b70d-7869b2f0e148",
   "metadata": {
    "scrolled": true,
    "tags": []
   },
   "outputs": [
    {
     "name": "stderr",
     "output_type": "stream",
     "text": [
      "C:\\Users\\kei01\\AppData\\Local\\Temp\\ipykernel_4416\\1236084526.py:3: UserWarning: To output multiple subplots, the figure containing the passed axes is being cleared.\n",
      "  rank_data.hist(ax=ax, bins=11)\n"
     ]
    },
    {
     "data": {
      "text/plain": [
       "array([[<AxesSubplot:title={'center':'1枠_順位'}>,\n",
       "        <AxesSubplot:title={'center':'2枠_順位'}>],\n",
       "       [<AxesSubplot:title={'center':'3枠_順位'}>,\n",
       "        <AxesSubplot:title={'center':'4枠_順位'}>],\n",
       "       [<AxesSubplot:title={'center':'5枠_順位'}>,\n",
       "        <AxesSubplot:title={'center':'6枠_順位'}>]], dtype=object)"
      ]
     },
     "execution_count": 16,
     "metadata": {},
     "output_type": "execute_result"
    },
    {
     "data": {
      "image/png": "[encoded data removed]",
      "text/plain": [
       "<Figure size 720x720 with 6 Axes>"
      ]
     },
     "metadata": {
      "needs_background": "light"
     },
     "output_type": "display_data"
    }
   ],
   "source": [
    "fig, ax = plt.subplots(figsize=(10,10))\n",
    "\n",
    "rank_data.hist(ax=ax, bins=11)"
   ]
  },
  {
   "cell_type": "markdown",
   "id": "ed48596d-d090-431d-8b98-65335822b2cb",
   "metadata": {},
   "source": [
    "## 年齢による順位の相関関係(2021年のデータを使用)"
   ]
  },
  {
   "cell_type": "code",
   "execution_count": 49,
   "id": "00dbdf6f-ddc6-416c-aad0-85d6eb207aa5",
   "metadata": {},
   "outputs": [
    {
     "name": "stdout",
     "output_type": "stream",
     "text": [
      "328554\n"
     ]
    },
    {
     "data": {
      "text/html": [
       "<div>\n",
       "<style scoped>\n",
       "    .dataframe tbody tr th:only-of-type {\n",
       "        vertical-align: middle;\n",
       "    }\n",
       "\n",
       "    .dataframe tbody tr th {\n",
       "        vertical-align: top;\n",
       "    }\n",
       "\n",
       "    .dataframe thead th {\n",
       "        text-align: right;\n",
       "    }\n",
       "</style>\n",
       "<table border=\"1\" class=\"dataframe\">\n",
       "  <thead>\n",
       "    <tr style=\"text-align: right;\">\n",
       "      <th></th>\n",
       "      <th>順位</th>\n",
       "      <th>年齢</th>\n",
       "    </tr>\n",
       "  </thead>\n",
       "  <tbody>\n",
       "    <tr>\n",
       "      <th>298562</th>\n",
       "      <td>2</td>\n",
       "      <td>41</td>\n",
       "    </tr>\n",
       "    <tr>\n",
       "      <th>298563</th>\n",
       "      <td>1</td>\n",
       "      <td>44</td>\n",
       "    </tr>\n",
       "    <tr>\n",
       "      <th>298564</th>\n",
       "      <td>1</td>\n",
       "      <td>37</td>\n",
       "    </tr>\n",
       "    <tr>\n",
       "      <th>298565</th>\n",
       "      <td>5</td>\n",
       "      <td>41</td>\n",
       "    </tr>\n",
       "    <tr>\n",
       "      <th>298566</th>\n",
       "      <td>4</td>\n",
       "      <td>53</td>\n",
       "    </tr>\n",
       "  </tbody>\n",
       "</table>\n",
       "</div>"
      ],
      "text/plain": [
       "        順位  年齢\n",
       "298562   2  41\n",
       "298563   1  44\n",
       "298564   1  37\n",
       "298565   5  41\n",
       "298566   4  53"
      ]
     },
     "execution_count": 49,
     "metadata": {},
     "output_type": "execute_result"
    }
   ],
   "source": [
    "data2021 = data.query('20210101<=レース日<=20211231')\n",
    "\n",
    "age1 = data2021[['1枠_順位', '1枠_年齢']]\n",
    "age1.columns = ['順位', '年齢']\n",
    "age2 = data2021[['2枠_順位', '2枠_年齢']]\n",
    "age2.columns = ['順位', '年齢']\n",
    "age3 = data2021[['3枠_順位', '3枠_年齢']]\n",
    "age3.columns = ['順位', '年齢']\n",
    "age4 = data2021[['4枠_順位', '4枠_年齢']]\n",
    "age4.columns = ['順位', '年齢']\n",
    "age5 = data2021[['5枠_順位', '5枠_年齢']]\n",
    "age5.columns = ['順位', '年齢']\n",
    "age6 = data2021[['6枠_順位', '6枠_年齢']]\n",
    "age6.columns = ['順位', '年齢']\n",
    "age_data = pd.concat([age1, age2, age3, age4, age5, age6])\n",
    "print(len(age_data))\n",
    "age_data.head()"
   ]
  },
  {
   "cell_type": "markdown",
   "id": "4bb72dbe-a88c-4a7a-9442-c893cff11369",
   "metadata": {},
   "source": [
    "### 人口割合"
   ]
  },
  {
   "cell_type": "code",
   "execution_count": 66,
   "id": "6ecf2cce-5a71-40b0-8a00-2e25f3b46d77",
   "metadata": {},
   "outputs": [
    {
     "name": "stdout",
     "output_type": "stream",
     "text": [
      "2021年度の平均年齢:38.36749818903437, 2021年度の年齢の中央値:38.0\n"
     ]
    },
    {
     "data": {
      "text/plain": [
       "Text(40.28587309848609, 14959.5075, 'Mean: 38.37')"
      ]
     },
     "execution_count": 66,
     "metadata": {},
     "output_type": "execute_result"
    },
    {
     "data": {
      "image/png": "[encoded data removed]",
      "text/plain": [
       "<Figure size 576x576 with 1 Axes>"
      ]
     },
     "metadata": {
      "needs_background": "light"
     },
     "output_type": "display_data"
    }
   ],
   "source": [
    "fig, ax = plt.subplots(figsize=(8,8))\n",
    "mean_age = age_data['年齢'].mean()\n",
    "median_age = age_data['年齢'].median()\n",
    "print('2021年度の平均年齢:{}, 2021年度の年齢の中央値:{}'.format(mean_age, median_age))\n",
    "age_data['年齢'].hist(ax=ax, bins=110)\n",
    "plt.axvline(mean_age, color='r', linestyle='dashed', linewidth=1)\n",
    "min_ylim, max_ylim = plt.ylim()\n",
    "plt.text(mean_age*1.05, max_ylim*0.95, 'Mean: {:.2f}'.format(mean_age))"
   ]
  },
  {
   "cell_type": "code",
   "execution_count": 51,
   "id": "b5b3d615-5d95-4925-ae4c-4bc7af715f21",
   "metadata": {},
   "outputs": [],
   "source": [
    "data1 = age_data.query('順位==1')\n",
    "data2 = age_data.query('順位==2')\n",
    "data3 = age_data.query('順位==3')\n",
    "data4 = age_data.query('順位==4')\n",
    "data5 = age_data.query('順位==5')\n",
    "data6 = age_data.query('順位==6')"
   ]
  },
  {
   "cell_type": "code",
   "execution_count": 68,
   "id": "d4ad9a78-7cc4-40b5-8cc2-37c24f0b571b",
   "metadata": {
    "scrolled": true,
    "tags": []
   },
   "outputs": [
    {
     "data": {
      "text/plain": [
       "<AxesSubplot:>"
      ]
     },
     "execution_count": 68,
     "metadata": {},
     "output_type": "execute_result"
    },
    {
     "data": {
      "image/png": "[encoded data removed]",
      "text/plain": [
       "<Figure size 576x576 with 6 Axes>"
      ]
     },
     "metadata": {
      "needs_background": "light"
     },
     "output_type": "display_data"
    }
   ],
   "source": [
    "#fig, ax = plt.subplots(figsize=(10,10))\n",
    "#data1['年齢'].hist(ax=ax, bins=110)\n",
    "\n",
    "fig = plt.figure(figsize = (8,8))\n",
    "ax1 = fig.add_subplot(2, 3, 1)\n",
    "ax2 = fig.add_subplot(2, 3, 2)\n",
    "ax3 = fig.add_subplot(2, 3, 3)\n",
    "ax4 = fig.add_subplot(2, 3, 4)\n",
    "ax5 = fig.add_subplot(2, 3, 5)\n",
    "ax6 = fig.add_subplot(2, 3, 6)\n",
    "data1['年齢'].hist(ax=ax1, bins=110)\n",
    "data2['年齢'].hist(ax=ax2, bins=110)\n",
    "data3['年齢'].hist(ax=ax3, bins=110)\n",
    "data4['年齢'].hist(ax=ax4, bins=110)\n",
    "data5['年齢'].hist(ax=ax5, bins=110)\n",
    "data6['年齢'].hist(ax=ax6, bins=110)"
   ]
  },
  {
   "cell_type": "code",
   "execution_count": null,
   "id": "c4186640-bb1e-4803-be07-6dfe2d9a7899",
   "metadata": {},
   "outputs": [],
   "source": []
  },
  {
   "cell_type": "code",
   "execution_count": 8,
   "id": "df413f04-24b3-4fb7-9044-f43dcc0c1862",
   "metadata": {},
   "outputs": [
    {
     "name": "stdout",
     "output_type": "stream",
     "text": [
      "大原祥昌       1\n",
      "寺田空詩       1\n",
      "石原凪紗       1\n",
      "大屋賢司       1\n",
      "仲道大輔       1\n",
      "        ... \n",
      "谷村一哉     366\n",
      "中嶋誠一郎    368\n",
      "堤昇       370\n",
      "平田さやか    374\n",
      "川上剛      382\n",
      "Name: 3枠_選手名_x, Length: 1874, dtype: int64\n"
     ]
    }
   ],
   "source": [
    "print(data['3枠_選手名_x'].value_counts(ascending=True))"
   ]
  },
  {
   "cell_type": "code",
   "execution_count": 14,
   "id": "2e1bb07c-723e-4934-aaac-0a053d7b6d06",
   "metadata": {},
   "outputs": [],
   "source": [
    "data_player1 = data['1枠_選手名_x'].value_counts(ascending=False)\n",
    "data_player2 = data['2枠_選手名_x'].value_counts(ascending=False)\n",
    "data_player3 = data['3枠_選手名_x'].value_counts(ascending=False)\n",
    "data_player4 = data['4枠_選手名_x'].value_counts(ascending=False)\n",
    "data_player5 = data['5枠_選手名_x'].value_counts(ascending=False)"
   ]
  },
  {
   "cell_type": "code",
   "execution_count": 17,
   "id": "bc5dd297-0f7f-4dc9-b9a2-57191b4a2ae1",
   "metadata": {},
   "outputs": [
    {
     "data": {
      "text/plain": [
       "岡瀬正人    392\n",
       "小畑実成    389\n",
       "山崎義明    381\n",
       "川上剛     379\n",
       "平石和男    374\n",
       "       ... \n",
       "秋山広一    330\n",
       "中澤和志    330\n",
       "石田章央    329\n",
       "高濱芳久    329\n",
       "羽野直也    329\n",
       "Name: 2枠_選手名_x, Length: 100, dtype: int64"
      ]
     },
     "execution_count": 17,
     "metadata": {},
     "output_type": "execute_result"
    }
   ],
   "source": [
    "data_player2.head(100)"
   ]
  },
  {
   "cell_type": "code",
   "execution_count": 16,
   "id": "dd70e3c3-0310-4446-a125-5d67bcdb0c3d",
   "metadata": {},
   "outputs": [
    {
     "data": {
      "text/plain": [
       "pandas.core.series.Series"
      ]
     },
     "execution_count": 16,
     "metadata": {},
     "output_type": "execute_result"
    }
   ],
   "source": [
    "type(data_player1)"
   ]
  },
  {
   "cell_type": "code",
   "execution_count": null,
   "id": "58fcf403-9040-40ce-9288-c46debd866e0",
   "metadata": {},
   "outputs": [],
   "source": []
  }
 ],
 "metadata": {
  "kernelspec": {
   "display_name": "Python 3 (ipykernel)",
   "language": "python",
   "name": "python3"
  },
  "language_info": {
   "codemirror_mode": {
    "name": "ipython",
    "version": 3
   },
   "file_extension": ".py",
   "mimetype": "text/x-python",
   "name": "python",
   "nbconvert_exporter": "python",
   "pygments_lexer": "ipython3",
   "version": "3.9.12"
  }
 },
 "nbformat": 4,
 "nbformat_minor": 5
}
