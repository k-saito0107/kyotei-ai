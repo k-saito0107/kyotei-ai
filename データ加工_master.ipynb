{
 "cells": [
  {
   "cell_type": "markdown",
   "id": "33a2f5b2-5cb1-4620-a76e-01433a2f516f",
   "metadata": {},
   "source": [
    "# データ加工"
   ]
  },
  {
   "cell_type": "code",
   "execution_count": 1,
   "id": "07730038-1d5b-41b0-ad77-85310d10b62c",
   "metadata": {},
   "outputs": [],
   "source": [
    "import pandas as pd\n",
    "import numpy as np\n",
    "import os"
   ]
  },
  {
   "cell_type": "markdown",
   "id": "7da1ecd5-ac74-4846-8105-15dc676f709f",
   "metadata": {},
   "source": [
    "## 学習データに使うcsvファイルのpathを指定"
   ]
  },
  {
   "cell_type": "code",
   "execution_count": 2,
   "id": "d7b7e55b-274d-4c2a-a3dc-3c04e1961f0f",
   "metadata": {},
   "outputs": [
    {
     "ename": "SyntaxError",
     "evalue": "EOL while scanning string literal (2815932815.py, line 8)",
     "output_type": "error",
     "traceback": [
      "\u001b[1;36m  Input \u001b[1;32mIn [2]\u001b[1;36m\u001b[0m\n\u001b[1;33m    save_path = './data/master_data.csv\u001b[0m\n\u001b[1;37m                                       ^\u001b[0m\n\u001b[1;31mSyntaxError\u001b[0m\u001b[1;31m:\u001b[0m EOL while scanning string literal\n"
     ]
    }
   ],
   "source": [
    "# 試合の結果データ\n",
    "match_data_path = './data/timetable_20150701-20220724_ver2.csv'\n",
    "\n",
    "# 各試合に参加した選手に関する情報\n",
    "player_data_path = './data/timetable_20150701-20220724_siai.csv'\n",
    "\n",
    "# 作成するcsvのファイルpath\n",
    "save_path = './data/master_data.csv'"
   ]
  },
  {
   "cell_type": "markdown",
   "id": "63ac13e8-70af-45b1-9db9-c6533f568f05",
   "metadata": {},
   "source": [
    "## データの読み込み"
   ]
  },
  {
   "cell_type": "code",
   "execution_count": null,
   "id": "847452ff-84c9-4c9f-a431-6dc803e14bb3",
   "metadata": {},
   "outputs": [],
   "source": [
    "data_match = pd.read_csv(match_data_path, encoding=\"shift-jis\")\n",
    "data_player = pd.read_csv(player_data_path, encoding=\"shift-jis\")"
   ]
  },
  {
   "cell_type": "markdown",
   "id": "08d626e5-c1fe-4895-b63d-aca8bda105c0",
   "metadata": {},
   "source": [
    "## 試合結果のデータの整形(結構時間かかる)"
   ]
  },
  {
   "cell_type": "code",
   "execution_count": null,
   "id": "8db6dd34-022b-40bc-b986-e3bae102f5a1",
   "metadata": {},
   "outputs": [],
   "source": [
    "# 必要な列のみ抽出\n",
    "data = data_match[['タイトル','日次','レース日','レース場','レース回','天候','風向','風速(m)','波の高さ(cm)',\n",
    "                   '1着_艇番','1着_選手名','1着_モーター番号',\n",
    "                   '2着_艇番','2着_選手名','2着_モーター番号',\n",
    "                   '3着_艇番','3着_選手名','3着_モーター番号',\n",
    "                   '4着_艇番','4着_選手名','4着_モーター番号',\n",
    "                   '5着_艇番','5着_選手名','5着_モーター番号',\n",
    "                   '6着_艇番','6着_選手名','6着_モーター番号']]\n",
    "\n",
    "\n",
    "# '1着_船番'といったカラムから'1枠_順位'といったカラムの作成を行う（処理時間結構長い）\n",
    "for i in range(len(data)):\n",
    "    if i == 0:\n",
    "        for k in range(1,7):\n",
    "            data[str(k)+'枠_選手名']=0\n",
    "            data[str(k)+'枠_モーター番号']=0\n",
    "            data[str(k)+'枠_順位']=0\n",
    "    hunaban = [data['1着_艇番'][i],data['2着_艇番'][i],data['3着_艇番'][i],data['4着_艇番'][i],data['5着_艇番'][i],data['6着_艇番'][i]]\n",
    "    argsort_array = np.argsort(hunaban)\n",
    "    n = 1\n",
    "    for j in argsort_array:\n",
    "        data[str(n)+'枠_選手名'][i] = data[str(j+1)+'着_選手名'][i]\n",
    "        data[str(n)+'枠_モーター番号'][i] = data[str(j+1)+'着_モーター番号'][i]\n",
    "        data[str(n)+'枠_順位'][i] = j+1\n",
    "        n += 1\n",
    "\n",
    "\n",
    "\n",
    "# 不要なカラムの削除＆日付のデータによるsort\n",
    "data_drop = data.drop(columns=['1着_艇番','1着_選手名','1着_モーター番号',\n",
    "                   '2着_艇番','2着_選手名','2着_モーター番号',\n",
    "                   '3着_艇番','3着_選手名','3着_モーター番号',\n",
    "                   '4着_艇番','4着_選手名','4着_モーター番号',\n",
    "                   '5着_艇番','5着_選手名','5着_モーター番号',\n",
    "                   '6着_艇番','6着_選手名','6着_モーター番号'])\n",
    "#print(data_drop.isnull().sum())\n",
    "data_drop = data_drop.dropna(subset=['タイトル'])\n",
    "data_drop = data_drop.dropna(subset=['1枠_選手名'])\n",
    "#print(data_drop.isnull().sum())\n",
    "#print(data_drop['レース日'].dtype)\n",
    "data_shaped = data_drop\n",
    "data_shaped['レース日'] = pd.to_datetime(data_shaped['レース日'])\n",
    "#data_drop.sort_values(by = 'レース日', ascending = True, inplace=True)\n",
    "\n",
    "\n",
    "data_shaped.sort_values(by = ['レース日','レース場','レース回'], ascending = [True, True, True], inplace=True)\n",
    "data_shaped['レース場'] = data_shaped['レース場'].str.replace(' ', '').str.replace('　', '')\n",
    "data_shaped['レース回'] = data_shaped['レース回'].str.replace(' ', '').str.replace('　', '')\n",
    "data_shaped['1枠_選手名'] = data_shaped['1枠_選手名'].str.replace(' ', '').str.replace('　', '')\n",
    "data_shaped['2枠_選手名'] = data_shaped['2枠_選手名'].str.replace(' ', '').str.replace('　', '')\n",
    "data_shaped['3枠_選手名'] = data_shaped['3枠_選手名'].str.replace(' ', '').str.replace('　', '')\n",
    "data_shaped['4枠_選手名'] = data_shaped['4枠_選手名'].str.replace(' ', '').str.replace('　', '')\n",
    "data_shaped['5枠_選手名'] = data_shaped['5枠_選手名'].str.replace(' ', '').str.replace('　', '')\n",
    "data_shaped['6枠_選手名'] = data_shaped['6枠_選手名'].str.replace(' ', '').str.replace('　', '')\n",
    "data_shaped['レース回'] = data_shaped['レース回'].str.replace('01R', '1').str.replace('02R', '2').str.replace('03R', '3').str.replace('04R', '4').str.replace('05R', '5').str.replace('06R', '6').str.replace('07R', '7').str.replace('08R', '8').str.replace('09R', '9').str.replace('10R', '10').str.replace('11R', '11').str.replace('12R', '12')\n",
    "\n",
    "\n"
   ]
  },
  {
   "cell_type": "markdown",
   "id": "e8c23df6-1101-4a3a-8c47-7b54e8fa0f96",
   "metadata": {},
   "source": [
    "## 選手情報のデータの整形"
   ]
  },
  {
   "cell_type": "code",
   "execution_count": null,
   "id": "952fdf40-662a-4c0f-8a90-7b88887315e2",
   "metadata": {},
   "outputs": [],
   "source": [
    "# 必要な列のみ抽出\n",
    "data_player = data_match[['レース日','レース場','レース回',\n",
    "                   '1枠_選手名','1枠_年齢','1枠_支部','1枠_体重','1枠_全国勝率','1枠_全国2連対率','1枠_当地勝率','1枠_当地2連対率',\n",
    "                   '2枠_選手名','2枠_年齢','2枠_支部','2枠_体重','2枠_全国勝率','2枠_全国2連対率','2枠_当地勝率','2枠_当地2連対率',\n",
    "                   '3枠_選手名','3枠_年齢','3枠_支部','3枠_体重','3枠_全国勝率','3枠_全国2連対率','3枠_当地勝率','3枠_当地2連対率',\n",
    "                   '4枠_選手名','4枠_年齢','4枠_支部','4枠_体重','4枠_全国勝率','4枠_全国2連対率','4枠_当地勝率','4枠_当地2連対率',\n",
    "                   '5枠_選手名','5枠_年齢','5枠_支部','5枠_体重','5枠_全国勝率','5枠_全国2連対率','5枠_当地勝率','5枠_当地2連対率',\n",
    "                   '6枠_選手名','6枠_年齢','6枠_支部','6枠_体重','6枠_全国勝率','6枠_全国2連対率','6枠_当地勝率','6枠_当地2連対率']]\n",
    "\n",
    "# レース日のフォーマットの調整\n",
    "data_player['レース日'] = data_player['レース日'].str.replace(' ', '').str.replace('　', '').str.replace('１','1').str.replace('２','2').str.replace('３','3').str.replace('４','4').str.replace('５','5').str.replace('６','6').str.replace('７','7').str.replace('８','8').str.replace('９','9').str.replace('０','0')\n",
    "data_player['レース日'] = pd.to_datetime(data_player['レース日'], format='%Y年%m月%d日')\n",
    "\n",
    "# レース日、レース場、レース回の順でsort\n",
    "data_player.sort_values(by = ['レース日','レース場','レース回'], ascending = [True, True, True], inplace=True)\n",
    "\n",
    "# 不要なカラムの削除\n",
    "data_player.drop(columns=['Unnamed: 0', '1枠_支部', '2枠_支部', '3枠_支部', '4枠_支部', '5枠_支部', '6枠_支部'], inplace=True)\n",
    "\n",
    "\n",
    "# 試合データとのmergeaのためにデータのフォーマットの統一\n",
    "data_player['レース場'] = data_player['レース場'].str.replace(' ', '').str.replace('　', '')\n",
    "data_player['レース回'] = data_player['レース回'].str.replace(' ', '').str.replace('　', '')\n",
    "data_player['1枠_選手名'] = data_player['1枠_選手名'].str.replace(' ', '').str.replace('　', '')\n",
    "data_player['2枠_選手名'] = data_player['2枠_選手名'].str.replace(' ', '').str.replace('　', '')\n",
    "data_player['3枠_選手名'] = data_player['3枠_選手名'].str.replace(' ', '').str.replace('　', '')\n",
    "data_player['4枠_選手名'] = data_player['4枠_選手名'].str.replace(' ', '').str.replace('　', '')\n",
    "data_player['5枠_選手名'] = data_player['5枠_選手名'].str.replace(' ', '').str.replace('　', '')\n",
    "data_player['6枠_選手名'] = data_player['6枠_選手名'].str.replace(' ', '').str.replace('　', '')\n",
    "data_player['レース回'] = data_player['レース回'].str.replace('１Ｒ', '1').str.replace('２Ｒ', '2').str.replace('３Ｒ', '3').str.replace('４Ｒ', '4').str.replace('５Ｒ', '5').str.replace('６Ｒ', '6').str.replace('７Ｒ', '7').str.replace('８Ｒ', '8').str.replace('９Ｒ', '9').str.replace('１０Ｒ', '10')\n",
    "data_player['レース回'] = data_player['レース回'].str.replace('１1', '11').str.replace('１2', '12')\n",
    "\n"
   ]
  },
  {
   "cell_type": "markdown",
   "id": "9b5d75a5-9a32-4e80-ac61-3fb19ab2251b",
   "metadata": {},
   "source": [
    "## 試合データと選手データのmerge"
   ]
  },
  {
   "cell_type": "code",
   "execution_count": null,
   "id": "68cf45cd-d93e-458d-9df7-3861709136c4",
   "metadata": {},
   "outputs": [],
   "source": [
    "# レース日、レース場、レース回をキー値として、試合データと選手データをmergeする\n",
    "data = pd.merge(data_shaped, data_player, on =['レース日','レース場','レース回'], how='inner', sort=True)"
   ]
  },
  {
   "cell_type": "code",
   "execution_count": null,
   "id": "ece47c6e-c4c3-419e-ad85-6b4cfb3ab22e",
   "metadata": {},
   "outputs": [],
   "source": [
    "data['レース日'] = pd.to_datetime(data['レース日'])\n",
    "data['レース日'] = data['レース日'].dt.strftime('%Y%m%d')"
   ]
  },
  {
   "cell_type": "code",
   "execution_count": null,
   "id": "9337c722-398e-48d0-904e-17eb7dca3ea3",
   "metadata": {},
   "outputs": [],
   "source": [
    "data.to_csv(save_path, encoding = \"shift-jis\",index=False)"
   ]
  }
 ],
 "metadata": {
  "kernelspec": {
   "display_name": "Python 3 (ipykernel)",
   "language": "python",
   "name": "python3"
  },
  "language_info": {
   "codemirror_mode": {
    "name": "ipython",
    "version": 3
   },
   "file_extension": ".py",
   "mimetype": "text/x-python",
   "name": "python",
   "nbconvert_exporter": "python",
   "pygments_lexer": "ipython3",
   "version": "3.9.12"
  },
  "vscode": {
   "interpreter": {
    "hash": "5d00c68556c13e9e6e377e56c2c542dd6974b0a6ecdcfe58fd3e87f9fcc30d27"
   }
  }
 },
 "nbformat": 4,
 "nbformat_minor": 5
}
